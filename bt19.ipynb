{
 "cells": [
  {
   "cell_type": "code",
   "execution_count": 7,
   "id": "2e4d23be-b2ca-43ce-a40f-39c60de05b4e",
   "metadata": {},
   "outputs": [
    {
     "name": "stdout",
     "output_type": "stream",
     "text": [
      "Collecting opencv-python\n",
      "  Downloading opencv_python-4.10.0.84-cp37-abi3-win_amd64.whl.metadata (20 kB)\n",
      "Requirement already satisfied: numpy>=1.21.2 in d:\\hoctap\\hk7\\tgmt\\pm\\lib\\site-packages (from opencv-python) (1.26.4)\n",
      "Downloading opencv_python-4.10.0.84-cp37-abi3-win_amd64.whl (38.8 MB)\n",
      "   ---------------------------------------- 0.0/38.8 MB ? eta -:--:--\n",
      "    --------------------------------------- 0.8/38.8 MB 5.6 MB/s eta 0:00:07\n",
      "   -- ------------------------------------- 2.4/38.8 MB 7.5 MB/s eta 0:00:05\n",
      "   ---- ----------------------------------- 4.7/38.8 MB 8.4 MB/s eta 0:00:05\n",
      "   ------ --------------------------------- 6.3/38.8 MB 8.2 MB/s eta 0:00:04\n",
      "   -------- ------------------------------- 8.1/38.8 MB 8.1 MB/s eta 0:00:04\n",
      "   ---------- ----------------------------- 10.2/38.8 MB 8.5 MB/s eta 0:00:04\n",
      "   ------------ --------------------------- 12.1/38.8 MB 8.5 MB/s eta 0:00:04\n",
      "   -------------- ------------------------- 14.4/38.8 MB 8.9 MB/s eta 0:00:03\n",
      "   ----------------- ---------------------- 16.5/38.8 MB 8.9 MB/s eta 0:00:03\n",
      "   ------------------ --------------------- 18.4/38.8 MB 8.9 MB/s eta 0:00:03\n",
      "   --------------------- ------------------ 20.4/38.8 MB 9.0 MB/s eta 0:00:03\n",
      "   ----------------------- ---------------- 22.5/38.8 MB 9.1 MB/s eta 0:00:02\n",
      "   ------------------------- -------------- 24.9/38.8 MB 9.2 MB/s eta 0:00:02\n",
      "   --------------------------- ------------ 26.5/38.8 MB 9.1 MB/s eta 0:00:02\n",
      "   ----------------------------- ---------- 28.3/38.8 MB 9.1 MB/s eta 0:00:02\n",
      "   ------------------------------- -------- 30.1/38.8 MB 9.0 MB/s eta 0:00:01\n",
      "   -------------------------------- ------- 31.7/38.8 MB 8.9 MB/s eta 0:00:01\n",
      "   ---------------------------------- ----- 33.3/38.8 MB 8.9 MB/s eta 0:00:01\n",
      "   ----------------------------------- ---- 34.9/38.8 MB 8.8 MB/s eta 0:00:01\n",
      "   ------------------------------------- -- 36.2/38.8 MB 8.7 MB/s eta 0:00:01\n",
      "   -------------------------------------- - 37.7/38.8 MB 8.6 MB/s eta 0:00:01\n",
      "   ---------------------------------------- 38.8/38.8 MB 8.5 MB/s eta 0:00:00\n",
      "Installing collected packages: opencv-python\n",
      "Successfully installed opencv-python-4.10.0.84\n"
     ]
    }
   ],
   "source": [
    "# Cài đặt opencv-python\n",
    "!pip install opencv-python"
   ]
  },
  {
   "cell_type": "code",
   "execution_count": 4,
   "id": "c4b2b369-ac99-4afa-af63-9bf43c09dd87",
   "metadata": {},
   "outputs": [],
   "source": [
    "def display(title, img):\n",
    "    cv2.imshow(title, img)\n",
    "    # Chờ một khoảng thời gian\n",
    "    cv2.waitKey(0)\n",
    "    # Đóng window\n",
    "    cv2.destroyWindow(title)"
   ]
  },
  {
   "cell_type": "code",
   "execution_count": 6,
   "id": "fdb60454-076d-487b-92a4-02a095ce2c0a",
   "metadata": {},
   "outputs": [],
   "source": [
    "# Import thư viện\n",
    "import cv2"
   ]
  },
  {
   "cell_type": "code",
   "execution_count": 8,
   "id": "e44db7e9-f3ed-4e16-ace2-837f16ba13d2",
   "metadata": {},
   "outputs": [
    {
     "name": "stdout",
     "output_type": "stream",
     "text": [
      "[[[170 140  99]\n",
      "  [140 110  69]\n",
      "  [187 157 116]\n",
      "  ...\n",
      "  [ 74  98 118]\n",
      "  [102 132 167]\n",
      "  [ 49  85 125]]\n",
      "\n",
      " [[142 112  71]\n",
      "  [141 111  70]\n",
      "  [183 153 112]\n",
      "  ...\n",
      "  [ 57  78 100]\n",
      "  [ 86 116 151]\n",
      "  [ 79 115 155]]\n",
      "\n",
      " [[160 128  87]\n",
      "  [165 133  92]\n",
      "  [183 151 110]\n",
      "  ...\n",
      "  [ 65  84 111]\n",
      "  [ 55  82 119]\n",
      "  [104 138 181]]\n",
      "\n",
      " ...\n",
      "\n",
      " [[  0  76  19]\n",
      "  [  0  69  13]\n",
      "  [ 15  83  30]\n",
      "  ...\n",
      "  [  5 159 100]\n",
      "  [  5 158 102]\n",
      "  [  3 158 101]]\n",
      "\n",
      " [[  0  78  15]\n",
      "  [  1  87  25]\n",
      "  [  0  80  21]\n",
      "  ...\n",
      "  [  0 150  85]\n",
      "  [  9 161  96]\n",
      "  [  9 161  95]]\n",
      "\n",
      " [[  9 106  40]\n",
      "  [ 19 113  48]\n",
      "  [ 13  99  37]\n",
      "  ...\n",
      "  [  1 152  83]\n",
      "  [ 11 160  92]\n",
      "  [ 11 161  91]]]\n"
     ]
    }
   ],
   "source": [
    "# Đọc một ảnh (nhan TAB de nhin autocomplete)\n",
    "path= './data/i06.jpg'\n",
    "img = cv2.imread(path)\n",
    "# In thông tin của ảnh\n",
    "print(img)"
   ]
  },
  {
   "cell_type": "code",
   "execution_count": 10,
   "id": "4d1464b5-b027-4992-8ddc-ae1022a4299e",
   "metadata": {},
   "outputs": [
    {
     "ename": "error",
     "evalue": "OpenCV(4.10.0) D:\\a\\opencv-python\\opencv-python\\opencv\\modules\\highgui\\src\\window_w32.cpp:1261: error: (-27:Null pointer) NULL window: 'Window' in function 'cvDestroyWindow'\n",
     "output_type": "error",
     "traceback": [
      "\u001b[1;31m---------------------------------------------------------------------------\u001b[0m",
      "\u001b[1;31merror\u001b[0m                                     Traceback (most recent call last)",
      "Cell \u001b[1;32mIn[10], line 6\u001b[0m\n\u001b[0;32m      4\u001b[0m cv2\u001b[38;5;241m.\u001b[39mwaitKey(\u001b[38;5;241m10000\u001b[39m)\n\u001b[0;32m      5\u001b[0m \u001b[38;5;66;03m# Đóng window\u001b[39;00m\n\u001b[1;32m----> 6\u001b[0m cv2\u001b[38;5;241m.\u001b[39mdestroyWindow(\u001b[38;5;124m'\u001b[39m\u001b[38;5;124mWindow\u001b[39m\u001b[38;5;124m'\u001b[39m)\n",
      "\u001b[1;31merror\u001b[0m: OpenCV(4.10.0) D:\\a\\opencv-python\\opencv-python\\opencv\\modules\\highgui\\src\\window_w32.cpp:1261: error: (-27:Null pointer) NULL window: 'Window' in function 'cvDestroyWindow'\n"
     ]
    }
   ],
   "source": [
    "# Hiển thị ảnh\n",
    "cv2.imshow('Window', img)\n",
    "# Chờ một khoảng thời gian\n",
    "cv2.waitKey(10000)\n",
    "# Đóng window\n",
    "cv2.destroyWindow('Window')"
   ]
  },
  {
   "cell_type": "code",
   "execution_count": null,
   "id": "3f24ee8c-7480-494f-8f53-9984ca2312ad",
   "metadata": {},
   "outputs": [],
   "source": [
    "# Tách màu\n",
    "b, g, r = cv2.split(img)\n",
    "cv2.imshow('Window', img)\n",
    "cv2.imshow('Red', r)\n",
    "cv2.imshow('Green', g)\n",
    "cv2.imshow('Blue', b)\n",
    "\n",
    "# Chờ một khoảng thời gian\n",
    "cv2.waitKey(0)\n",
    "# Đóng window\n",
    "cv2.destroyAllWindows()"
   ]
  },
  {
   "cell_type": "code",
   "execution_count": null,
   "id": "2924d98b-b07d-4270-973f-8ffe2d1b65ea",
   "metadata": {},
   "outputs": [],
   "source": [
    "gray_img = cv2.cvtColor(img, cv2.COLOR_BGR2GRAY)\n",
    "img_2 = cv2.cvtColor(img, cv2.COLOR_BGR2RGB)\n",
    "cv2.imshow('Window', img)\n",
    "cv2.imshow('gray_img', gray_img)\n",
    "cv2.imshow('img_2', img_2)\n",
    "# Chờ một khoảng thời gian\n",
    "cv2.waitKey(0)\n",
    "# Đóng window\n",
    "cv2.destroyAllWindows()"
   ]
  },
  {
   "cell_type": "code",
   "execution_count": 22,
   "id": "843d8105-d18e-41e9-8d0d-fee762370687",
   "metadata": {},
   "outputs": [
    {
     "ename": "error",
     "evalue": "OpenCV(4.10.0) D:\\a\\opencv-python\\opencv-python\\opencv\\modules\\highgui\\src\\window_w32.cpp:1261: error: (-27:Null pointer) NULL window: 'Window' in function 'cvDestroyWindow'\n",
     "output_type": "error",
     "traceback": [
      "\u001b[1;31m---------------------------------------------------------------------------\u001b[0m",
      "\u001b[1;31merror\u001b[0m                                     Traceback (most recent call last)",
      "Cell \u001b[1;32mIn[22], line 18\u001b[0m\n\u001b[0;32m     16\u001b[0m         img2[y, x] \u001b[38;5;241m=\u001b[39m green_color\n\u001b[0;32m     17\u001b[0m \u001b[38;5;66;03m# Hiển thị\u001b[39;00m\n\u001b[1;32m---> 18\u001b[0m display(\u001b[38;5;124m'\u001b[39m\u001b[38;5;124mWindow\u001b[39m\u001b[38;5;124m'\u001b[39m, img)\n\u001b[0;32m     19\u001b[0m display(\u001b[38;5;124m'\u001b[39m\u001b[38;5;124mWindow-2\u001b[39m\u001b[38;5;124m'\u001b[39m, img2)\n",
      "Cell \u001b[1;32mIn[9], line 6\u001b[0m, in \u001b[0;36mdisplay\u001b[1;34m(title, img)\u001b[0m\n\u001b[0;32m      4\u001b[0m cv2\u001b[38;5;241m.\u001b[39mwaitKey(\u001b[38;5;241m0\u001b[39m)\n\u001b[0;32m      5\u001b[0m \u001b[38;5;66;03m# Đóng window\u001b[39;00m\n\u001b[1;32m----> 6\u001b[0m cv2\u001b[38;5;241m.\u001b[39mdestroyWindow(title)\n",
      "\u001b[1;31merror\u001b[0m: OpenCV(4.10.0) D:\\a\\opencv-python\\opencv-python\\opencv\\modules\\highgui\\src\\window_w32.cpp:1261: error: (-27:Null pointer) NULL window: 'Window' in function 'cvDestroyWindow'\n"
     ]
    }
   ],
   "source": [
    "# Thay đổi thông số của điểm ảnh\n",
    "height, width, z = img.shape\n",
    "quater_h = height/2\n",
    "quater_w = width/2\n",
    "\n",
    "# geen color\n",
    "green_color = (0,255,0)\n",
    "\n",
    "# copy ảnh\n",
    "img2 = img.copy()\n",
    "\n",
    "# thay đổi màu của góc 1/4 bên trái trên\n",
    "\n",
    "for y in range(int(quater_h)):\n",
    "    for x in range(int(quater_w)):\n",
    "        img2[y, x] = green_color\n",
    "# Hiển thị\n",
    "display('Window', img)\n",
    "display('Window-2', img2)"
   ]
  },
  {
   "cell_type": "code",
   "execution_count": null,
   "id": "5607dc37-9544-4a76-9234-5f7c4875745e",
   "metadata": {},
   "outputs": [],
   "source": []
  }
 ],
 "metadata": {
  "kernelspec": {
   "display_name": "Python 3 (ipykernel)",
   "language": "python",
   "name": "python3"
  },
  "language_info": {
   "codemirror_mode": {
    "name": "ipython",
    "version": 3
   },
   "file_extension": ".py",
   "mimetype": "text/x-python",
   "name": "python",
   "nbconvert_exporter": "python",
   "pygments_lexer": "ipython3",
   "version": "3.12.4"
  }
 },
 "nbformat": 4,
 "nbformat_minor": 5
}
